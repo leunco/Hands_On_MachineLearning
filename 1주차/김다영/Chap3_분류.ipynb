{
  "nbformat": 4,
  "nbformat_minor": 0,
  "metadata": {
    "colab": {
      "provenance": [],
      "authorship_tag": "ABX9TyOVtJvJ2MOrEebn6cTlt/bO",
      "include_colab_link": true
    },
    "kernelspec": {
      "name": "python3",
      "display_name": "Python 3"
    },
    "language_info": {
      "name": "python"
    }
  },
  "cells": [
    {
      "cell_type": "markdown",
      "metadata": {
        "id": "view-in-github",
        "colab_type": "text"
      },
      "source": [
        "<a href=\"https://colab.research.google.com/github/leunco/Hands_On_MachineLearning/blob/main/1%EC%A3%BC%EC%B0%A8/%EA%B9%80%EB%8B%A4%EC%98%81/Chap3_%EB%B6%84%EB%A5%98.ipynb\" target=\"_parent\"><img src=\"https://colab.research.google.com/assets/colab-badge.svg\" alt=\"Open In Colab\"/></a>"
      ]
    },
    {
      "cell_type": "code",
      "source": [
        "import warnings\n",
        "warnings.filterwarnings(action='ignore')"
      ],
      "metadata": {
        "id": "4Z8di4KI5hyW"
      },
      "execution_count": null,
      "outputs": []
    },
    {
      "cell_type": "markdown",
      "source": [
        "## 3.1 MNIST\n",
        "3장에서는 고등학생과 미국 인구조사국 직원들이 손으로 쓴 7만개의 작은 숫자 이미지를 모은 MNIST 데이터셋을 사용한다.\n",
        "\n",
        "각 이미지에는 어떤 숫자를 나타내는지 레이블 되어있다.\n",
        "\n",
        "사이킷런에서 제공하는 여러가지 헬퍼 함수를 사용하여 잘 알려진 데이터셋을 내려 받을 수 있다. 다음은 MNIST 데이터셋을 내려받는 코드이다.\n",
        "\n",
        "사이킷런에서 읽어들인 데이터셋들은 일반적으로 비슷한 딕셔너리 구조를 가지고 있다.\n",
        " - 데이터셋을 설명하는 **DESCR** 키\n",
        " - 샘플이 하나의 행, 특성이 하나의 열로 구성된 배열을 가진 **data** 키\n",
        " - 레이블 배열을 담은 **target** 키"
      ],
      "metadata": {
        "id": "i6L4xFGa9sFC"
      }
    },
    {
      "cell_type": "code",
      "source": [
        "from sklearn.datasets import fetch_openml\n",
        "mnist = fetch_openml(\"mnist_784\", version=1, as_frame=False)\n",
        "mnist.keys()"
      ],
      "metadata": {
        "colab": {
          "base_uri": "https://localhost:8080/"
        },
        "id": "C8jr7FJA99l5",
        "outputId": "ed6167c3-fe24-4495-ba8d-b0a835ea70c9"
      },
      "execution_count": null,
      "outputs": [
        {
          "output_type": "execute_result",
          "data": {
            "text/plain": [
              "dict_keys(['data', 'target', 'frame', 'categories', 'feature_names', 'target_names', 'DESCR', 'details', 'url'])"
            ]
          },
          "metadata": {},
          "execution_count": 5
        }
      ]
    },
    {
      "cell_type": "code",
      "source": [
        "X = mnist[\"data\"]\n",
        "y = mnist[\"target\"]\n",
        "print(X.shape)\n",
        "print(y.shape)"
      ],
      "metadata": {
        "colab": {
          "base_uri": "https://localhost:8080/"
        },
        "id": "1ZsXK1wt-ZIS",
        "outputId": "1f2352ed-cf59-433e-a686-c3e82647d61d"
      },
      "execution_count": null,
      "outputs": [
        {
          "output_type": "stream",
          "name": "stdout",
          "text": [
            "(70000, 784)\n",
            "(70000,)\n"
          ]
        }
      ]
    },
    {
      "cell_type": "markdown",
      "source": [
        "이미지가 70000개 있고, 각 이미지에는 784개의 특성이 있는데 이는 이미지가 28x28 픽셀이기 때문이다. 개개의 특성은 단순히 0(흰색)부터 255(검은색)까지의 픽셀 강도를 나타낸다.\n",
        "\n",
        "데이터셋에서 이미지 하나를 확인하기 위해서는 샘플의 특성 벡터를 추출하여 28x28 배열로 크기를 바꾸고 맷플롯립의 imshow() 함수를 사용하여 그린다."
      ],
      "metadata": {
        "id": "2vcECGW79stm"
      }
    },
    {
      "cell_type": "code",
      "source": [
        "import numpy as np\n",
        "import matplotlib as mpl\n",
        "import matplotlib.pyplot as plt\n",
        "\n",
        "some_digit = X[0]\n",
        "some_digit_image = some_digit.reshape(28, 28)\n",
        "\n",
        "plt.imshow(some_digit_image, cmap='binary')\n",
        "plt.axis('off')\n",
        "plt.show()"
      ],
      "metadata": {
        "colab": {
          "base_uri": "https://localhost:8080/",
          "height": 406
        },
        "id": "P7r2hd1YI3JI",
        "outputId": "f1611559-9a64-477b-8de1-54b7891589d9"
      },
      "execution_count": null,
      "outputs": [
        {
          "output_type": "display_data",
          "data": {
            "text/plain": [
              "<Figure size 640x480 with 1 Axes>"
            ],
            "image/png": "[encoded data removed]"
          },
          "metadata": {}
        }
      ]
    },
    {
      "cell_type": "code",
      "source": [
        "y[0]"
      ],
      "metadata": {
        "colab": {
          "base_uri": "https://localhost:8080/",
          "height": 36
        },
        "id": "u4VFvY1FJAiq",
        "outputId": "5c494b90-fd91-49f7-927d-357edfd9b95b"
      },
      "execution_count": null,
      "outputs": [
        {
          "output_type": "execute_result",
          "data": {
            "text/plain": [
              "'5'"
            ],
            "application/vnd.google.colaboratory.intrinsic+json": {
              "type": "string"
            }
          },
          "metadata": {},
          "execution_count": 24
        }
      ]
    },
    {
      "cell_type": "code",
      "source": [
        "y = y.astype(np.uint8)"
      ],
      "metadata": {
        "id": "gFKl3FX2JGsG"
      },
      "execution_count": null,
      "outputs": []
    },
    {
      "cell_type": "markdown",
      "source": [
        "기존 레이블은 문자이다. 대부분 머신러닝 알고리즘은 숫자를 기대하므로 y를 정수로 변환한다.\n",
        "\n",
        "또한 머신러닝을 위해서는 항상 테스트 세트를 만들고 따로 분류해놓아야 한다. MNIST 데이터셋은 이미 앞의 60000개의 훈련 세트와 뒤의 10000개의 테스트 세트로 나누어 놓았다."
      ],
      "metadata": {
        "id": "AaSzkgue9syw"
      }
    },
    {
      "cell_type": "code",
      "source": [
        "X_train, X_test, y_train, y_test = X[:60000], X[60000:], y[:60000], y[60000:]"
      ],
      "metadata": {
        "id": "k5UtwyqBKeDp"
      },
      "execution_count": null,
      "outputs": []
    },
    {
      "cell_type": "markdown",
      "source": [
        "## 3.2 이진 분류기 훈련\n",
        "문제를 단순화하여 하나의 숫자 5만 식별하기로 한다. 5-감지기는 '5'와 '5 아님' 2개의 클래스를 구분할 수 있는 **이진 분류기**의 하나의 예이다.\n",
        "\n",
        "분류 작업을 위해 타겟 벡터를 만든다."
      ],
      "metadata": {
        "id": "Xfo_szuEKDHr"
      }
    },
    {
      "cell_type": "code",
      "source": [
        "y_train_5 = (y_train==5)\n",
        "y_test_5 = (y_test==5)"
      ],
      "metadata": {
        "id": "8i4TUFPbKbiM"
      },
      "execution_count": null,
      "outputs": []
    },
    {
      "cell_type": "markdown",
      "source": [
        "하나의 분류 모델을 선택하여 훈련한다.\n",
        "\n",
        "먼저 사이킷런의 **SGDClassifier** 클래스를 사용하여 **확률적 경사 하강법(SGD) 분류기**를 사용한다.\n",
        "\n",
        "이 분류기는 매우 큰 데이터셋을 효율적으로 처리하는 장점을 가진다. 이는 SGD가 한번에 하나씩 훈련 샘플을 독립적으로 처리하기 때문이다.\n",
        "\n",
        "SGDClassifier 모델을 만들고 전체 훈련 세트를 사용하여 훈련시킨다.\n",
        "\n",
        "이 모델을 사용하여 숫자 5의 이미지를 감지하면, 분류기는 이 이미지가 5를 나타낸다고 추측한다.(True)\n"
      ],
      "metadata": {
        "id": "0Mop3WsbK8_W"
      }
    },
    {
      "cell_type": "code",
      "source": [
        "from sklearn.linear_model import SGDClassifier\n",
        "\n",
        "sgd_clf = SGDClassifier(random_state=42)\n",
        "sgd_clf.fit(X_train, y_train_5)"
      ],
      "metadata": {
        "colab": {
          "base_uri": "https://localhost:8080/",
          "height": 74
        },
        "id": "VKglr17bObyo",
        "outputId": "3c2c8d60-e437-4007-a316-3a17593d22b3"
      },
      "execution_count": null,
      "outputs": [
        {
          "output_type": "execute_result",
          "data": {
            "text/plain": [
              "SGDClassifier(random_state=42)"
            ],
            "text/html": [
              "<style>#sk-container-id-1 {color: black;background-color: white;}#sk-container-id-1 pre{padding: 0;}#sk-container-id-1 div.sk-toggleable {background-color: white;}#sk-container-id-1 label.sk-toggleable__label {cursor: pointer;display: block;width: 100%;margin-bottom: 0;padding: 0.3em;box-sizing: border-box;text-align: center;}#sk-container-id-1 label.sk-toggleable__label-arrow:before {content: \"▸\";float: left;margin-right: 0.25em;color: #696969;}#sk-container-id-1 label.sk-toggleable__label-arrow:hover:before {color: black;}#sk-container-id-1 div.sk-estimator:hover label.sk-toggleable__label-arrow:before {color: black;}#sk-container-id-1 div.sk-toggleable__content {max-height: 0;max-width: 0;overflow: hidden;text-align: left;background-color: #f0f8ff;}#sk-container-id-1 div.sk-toggleable__content pre {margin: 0.2em;color: black;border-radius: 0.25em;background-color: #f0f8ff;}#sk-container-id-1 input.sk-toggleable__control:checked~div.sk-toggleable__content {max-height: 200px;max-width: 100%;overflow: auto;}#sk-container-id-1 input.sk-toggleable__control:checked~label.sk-toggleable__label-arrow:before {content: \"▾\";}#sk-container-id-1 div.sk-estimator input.sk-toggleable__control:checked~label.sk-toggleable__label {background-color: #d4ebff;}#sk-container-id-1 div.sk-label input.sk-toggleable__control:checked~label.sk-toggleable__label {background-color: #d4ebff;}#sk-container-id-1 input.sk-hidden--visually {border: 0;clip: rect(1px 1px 1px 1px);clip: rect(1px, 1px, 1px, 1px);height: 1px;margin: -1px;overflow: hidden;padding: 0;position: absolute;width: 1px;}#sk-container-id-1 div.sk-estimator {font-family: monospace;background-color: #f0f8ff;border: 1px dotted black;border-radius: 0.25em;box-sizing: border-box;margin-bottom: 0.5em;}#sk-container-id-1 div.sk-estimator:hover {background-color: #d4ebff;}#sk-container-id-1 div.sk-parallel-item::after {content: \"\";width: 100%;border-bottom: 1px solid gray;flex-grow: 1;}#sk-container-id-1 div.sk-label:hover label.sk-toggleable__label {background-color: #d4ebff;}#sk-container-id-1 div.sk-serial::before {content: \"\";position: absolute;border-left: 1px solid gray;box-sizing: border-box;top: 0;bottom: 0;left: 50%;z-index: 0;}#sk-container-id-1 div.sk-serial {display: flex;flex-direction: column;align-items: center;background-color: white;padding-right: 0.2em;padding-left: 0.2em;position: relative;}#sk-container-id-1 div.sk-item {position: relative;z-index: 1;}#sk-container-id-1 div.sk-parallel {display: flex;align-items: stretch;justify-content: center;background-color: white;position: relative;}#sk-container-id-1 div.sk-item::before, #sk-container-id-1 div.sk-parallel-item::before {content: \"\";position: absolute;border-left: 1px solid gray;box-sizing: border-box;top: 0;bottom: 0;left: 50%;z-index: -1;}#sk-container-id-1 div.sk-parallel-item {display: flex;flex-direction: column;z-index: 1;position: relative;background-color: white;}#sk-container-id-1 div.sk-parallel-item:first-child::after {align-self: flex-end;width: 50%;}#sk-container-id-1 div.sk-parallel-item:last-child::after {align-self: flex-start;width: 50%;}#sk-container-id-1 div.sk-parallel-item:only-child::after {width: 0;}#sk-container-id-1 div.sk-dashed-wrapped {border: 1px dashed gray;margin: 0 0.4em 0.5em 0.4em;box-sizing: border-box;padding-bottom: 0.4em;background-color: white;}#sk-container-id-1 div.sk-label label {font-family: monospace;font-weight: bold;display: inline-block;line-height: 1.2em;}#sk-container-id-1 div.sk-label-container {text-align: center;}#sk-container-id-1 div.sk-container {/* jupyter's `normalize.less` sets `[hidden] { display: none; }` but bootstrap.min.css set `[hidden] { display: none !important; }` so we also need the `!important` here to be able to override the default hidden behavior on the sphinx rendered scikit-learn.org. See: https://github.com/scikit-learn/scikit-learn/issues/21755 */display: inline-block !important;position: relative;}#sk-container-id-1 div.sk-text-repr-fallback {display: none;}</style><div id=\"sk-container-id-1\" class=\"sk-top-container\"><div class=\"sk-text-repr-fallback\"><pre>SGDClassifier(random_state=42)</pre><b>In a Jupyter environment, please rerun this cell to show the HTML representation or trust the notebook. <br />On GitHub, the HTML representation is unable to render, please try loading this page with nbviewer.org.</b></div><div class=\"sk-container\" hidden><div class=\"sk-item\"><div class=\"sk-estimator sk-toggleable\"><input class=\"sk-toggleable__control sk-hidden--visually\" id=\"sk-estimator-id-1\" type=\"checkbox\" checked><label for=\"sk-estimator-id-1\" class=\"sk-toggleable__label sk-toggleable__label-arrow\">SGDClassifier</label><div class=\"sk-toggleable__content\"><pre>SGDClassifier(random_state=42)</pre></div></div></div></div></div>"
            ]
          },
          "metadata": {},
          "execution_count": 8
        }
      ]
    },
    {
      "cell_type": "code",
      "source": [
        "sgd_clf.predict([some_digit])"
      ],
      "metadata": {
        "colab": {
          "base_uri": "https://localhost:8080/"
        },
        "id": "A5-uiV1sQagB",
        "outputId": "1ced845b-8f4f-46bc-bd34-7bd13289d803"
      },
      "execution_count": null,
      "outputs": [
        {
          "output_type": "execute_result",
          "data": {
            "text/plain": [
              "array([ True])"
            ]
          },
          "metadata": {},
          "execution_count": 9
        }
      ]
    },
    {
      "cell_type": "markdown",
      "source": [
        "## 3.3 성능 측정\n",
        "분류기 평가는 회귀 모델보다 훨씬 더 어렵다. 또한 사용할 수 있는 성능 지표가 많다."
      ],
      "metadata": {
        "id": "IIITuj-rKDJd"
      }
    },
    {
      "cell_type": "markdown",
      "source": [
        "### 3.3.1 교차 검증을 사용한 정확도 측정\n",
        "교차 검증은 모델을 평가하는 좋은 방법이다.\n",
        "\n",
        "**k-겹 교차 검증**은 훈련 세트를 k개의 폴드로 나누어서 각 폴드에 대한 예측을 만들고 평가하기 위해 나머지 폴드로 훈련시킨 모델을 사용한다.\n",
        "\n",
        "`cross_val_score()` 함수로 폴드가 3개인 k-겹 교차 검증을 사용하여 SGDClassifier 모델을 평가한다.\n",
        "\n",
        "그 결과 모든 교차 검증 폴드에 대해 **정확도**(accuracy)가 95% 이상이다."
      ],
      "metadata": {
        "id": "q672V1LCQ-D5"
      }
    },
    {
      "cell_type": "code",
      "source": [
        "from sklearn.model_selection import cross_val_score\n",
        "cross_val_score(sgd_clf, X_train, y_train_5, cv=3, scoring=\"accuracy\")"
      ],
      "metadata": {
        "colab": {
          "base_uri": "https://localhost:8080/"
        },
        "id": "8DLsWrBKRiXp",
        "outputId": "4b84171c-44c7-46f0-f1dd-aa5149deed44"
      },
      "execution_count": null,
      "outputs": [
        {
          "output_type": "execute_result",
          "data": {
            "text/plain": [
              "array([0.95035, 0.96035, 0.9604 ])"
            ]
          },
          "metadata": {},
          "execution_count": 9
        }
      ]
    },
    {
      "cell_type": "markdown",
      "source": [
        "반대로 모든 이미지를 '5 아님' 클래스로 분류하는 더미 분류기를 만들어 비교한다.\n",
        "\n",
        "이 분류기의 정확도는 90% 이상이 되는데, 이미지의 10% 정도만 숫자 5이기 때문에 무조건 '5 아님'으로 예측하면 정확히 맞출 확률이 90%이기 때문이다.\n",
        "\n",
        "이는 정확도를 분류기의 성능 측정 지표로 선호하지 않는 이유를 보여준다. 특히 어떤 클래스가 다른 것보다 월등히 많은 불균형한 데이터셋을 다룰 때 더욱 그렇다.\n",
        "\n"
      ],
      "metadata": {
        "id": "wyS9vCbASBaC"
      }
    },
    {
      "cell_type": "code",
      "source": [
        "from sklearn.base import BaseEstimator\n",
        "class Never5Classifier(BaseEstimator):\n",
        "    def fit(self, X, y=None):\n",
        "        return self\n",
        "    def predict(self, X):\n",
        "        return np.zeros((len(X), 1), dtype=bool)"
      ],
      "metadata": {
        "id": "KjxYyKttSVb9"
      },
      "execution_count": null,
      "outputs": []
    },
    {
      "cell_type": "code",
      "source": [
        "never_5_clf = Never5Classifier()\n",
        "cross_val_score(never_5_clf, X_train, y_train_5, cv=3, scoring=\"accuracy\")"
      ],
      "metadata": {
        "colab": {
          "base_uri": "https://localhost:8080/"
        },
        "id": "f_61kYUiS5Bp",
        "outputId": "93ac86e8-e730-4522-f0da-726e8a07bdec"
      },
      "execution_count": null,
      "outputs": [
        {
          "output_type": "execute_result",
          "data": {
            "text/plain": [
              "array([0.91125, 0.90855, 0.90915])"
            ]
          },
          "metadata": {},
          "execution_count": 11
        }
      ]
    },
    {
      "cell_type": "markdown",
      "source": [
        "### 3.3.2 오차 행렬\n",
        "분류기의 성능을 평가하는 더 좋은 방법은 **오차 행렬**을 조사하는 것이다. 기본 아이디어는 클래스 A의 샘플이 클래스 B로 분류된 횟수를 세는 것이다.\n",
        "\n",
        "오차 행렬을 만드려면 실제 타겟과 비교할 수 있도록 먼저 예측 값을 만들어야 한다. 테스트 세트로 예측을 만들 수 있지만, 테스트 세트는 분류기가 출시 준비를 마치고 나서 프로젝트의 가장 마지막에 사용되므로 여기서 사용하면 안된다.\n",
        "\n",
        "대신에 `cross_val_predict()` 함수를 사용할 수 있다. cross_val_score() 함수처럼 k-겹 교차 검증을 수행하지만, 평가 점수를 반환하지 않고 **각 테스트 폴드에서 얻은 예측을 반환**한다.\n"
      ],
      "metadata": {
        "id": "xUMSOIYLWAA-"
      }
    },
    {
      "cell_type": "code",
      "source": [
        "from sklearn.model_selection import cross_val_predict\n",
        "y_train_pred = cross_val_predict(sgd_clf, X_train, y_train_5, cv=3)"
      ],
      "metadata": {
        "id": "aNoswZH-YljH"
      },
      "execution_count": null,
      "outputs": []
    },
    {
      "cell_type": "markdown",
      "source": [
        "`confusion_matrix()` 함수를 사용하여 오차 행렬을 만든다. 함수에 타겟 클래스(y_train_5)와 예측 클래스(y_train_pred)를 넣고 호출한다.\n",
        "\n",
        "오차 행렬의 **행은 실제 클래스**를 나타내고 **열은 예측한 클래스**를 나타낸다.\n",
        "\n",
        "첫번째 행은 '5 아님' 이미지에 대한 것으로 첫번째 열만큼 '5 아님'으로 정확하게 분류(진짜 음성)했고, 두번째 열만큼 '5'라고 잘못 분류(거짓 양성)했다.\n",
        "\n",
        "두번째 행은 '5' 이미지에 대한 것으로 첫번째 열만큼 '5 아님'으로 잘못 분류(거짓 음성)했고, 두번째 열만큼 '5'라고 정확하게 분류(진짜 양성)했다.\n",
        "\n",
        "완벽한 분류기라면 진짜 양성과 진짜 음성만 가지고 있을 것이므로 오차 행렬의 주대각선만 0이 아닌 값이 된다."
      ],
      "metadata": {
        "id": "U7TnNGc0ZTLY"
      }
    },
    {
      "cell_type": "code",
      "source": [
        "from sklearn.metrics import confusion_matrix\n",
        "confusion_matrix(y_train_5, y_train_pred)"
      ],
      "metadata": {
        "colab": {
          "base_uri": "https://localhost:8080/"
        },
        "id": "S7oB6UoJY_FW",
        "outputId": "a0cd70f0-fa00-453d-9e3f-64267c628473"
      },
      "execution_count": null,
      "outputs": [
        {
          "output_type": "execute_result",
          "data": {
            "text/plain": [
              "array([[53892,   687],\n",
              "       [ 1891,  3530]])"
            ]
          },
          "metadata": {},
          "execution_count": 13
        }
      ]
    },
    {
      "cell_type": "code",
      "source": [
        "#완벽한 분류기\n",
        "y_train_perfect_predictions = y_train_5\n",
        "confusion_matrix(y_train_5, y_train_perfect_predictions)"
      ],
      "metadata": {
        "colab": {
          "base_uri": "https://localhost:8080/"
        },
        "id": "NOD4e-OBaEdP",
        "outputId": "b04e0141-29c4-447c-b7c4-ad4768e06b24"
      },
      "execution_count": null,
      "outputs": [
        {
          "output_type": "execute_result",
          "data": {
            "text/plain": [
              "array([[54579,     0],\n",
              "       [    0,  5421]])"
            ]
          },
          "metadata": {},
          "execution_count": 15
        }
      ]
    },
    {
      "cell_type": "markdown",
      "source": [
        "오차 행렬보다 더 요약된 지표가 필요한 경우가 있다. 살펴볼 만한 것 중 하나가 **양성 예측의 정확도**로, 이를 분류기의 **정밀도**라고 한다.\n",
        "\n",
        "TP가 진짜 양성의 수, FP가 거짓 양성의 수라고 할 때, 정밀도는 TP/(TP+FP)이다.\n",
        "\n",
        "정밀도는 **재현율**이라는 또 다른 지표와 같이 사용하는 것이 일반적인데, 재현율은 **분류기가 정확하게 감지한 양성 샘플의 비율**이다. 민감도 또는 진짜 양성 비율(TPR)이라고도 한다.\n",
        "\n",
        "FN이 거짓 음성의 수라고 할 때, 재현율은 TP/(TP+FN)이다."
      ],
      "metadata": {
        "id": "Ny8WyyUEQ-Th"
      }
    },
    {
      "cell_type": "markdown",
      "source": [
        "### 3.3.3 정밀도와 재현율\n",
        "사이킷런은 정밀도와 재현율을 포함하여 분류기의 지표를 계산하는 여러 함수를 제공한다.\n",
        "\n",
        "정밀도와 재현율을 **F1 score**라는 하나의 숫자로 만들면 두 분류기를 비교할 때 편리하다. F1 score는 **정밀도와 재현율의 조화 평균**이다.\n",
        "\n",
        "정밀도와 재현율이 비슷한 분류기에서는 F1 score가 높다. 하지만 상황에 따라 정밀도가 중요할 수도 있고 재현율이 중요할 수도 있으므로 항상 바람직한 것은 아니다.\n",
        "\n",
        "정밀도와 재현율을 모두 얻을 수는 없다. 정밀도를 올리면 재현율이 줄어들며, 재현율을 올리면 정밀도가 줄어든다. 이를 **정밀도/재현율 트레이드오프**라고 한다."
      ],
      "metadata": {
        "id": "PBYBsJ8NbJze"
      }
    },
    {
      "cell_type": "code",
      "source": [
        "from sklearn.metrics import precision_score\n",
        "precision_score(y_train_5, y_train_pred)"
      ],
      "metadata": {
        "colab": {
          "base_uri": "https://localhost:8080/"
        },
        "id": "S0jhiCcZbcB9",
        "outputId": "87f16b1c-fc2f-4241-b94a-98e558aeae65"
      },
      "execution_count": null,
      "outputs": [
        {
          "output_type": "execute_result",
          "data": {
            "text/plain": [
              "0.8370879772350012"
            ]
          },
          "metadata": {},
          "execution_count": 14
        }
      ]
    },
    {
      "cell_type": "code",
      "source": [
        "from sklearn.metrics import recall_score\n",
        "recall_score(y_train_5, y_train_pred)"
      ],
      "metadata": {
        "colab": {
          "base_uri": "https://localhost:8080/"
        },
        "id": "jLCehnmubvhI",
        "outputId": "b0176c2d-59eb-45a1-bb56-760bb06f319d"
      },
      "execution_count": null,
      "outputs": [
        {
          "output_type": "execute_result",
          "data": {
            "text/plain": [
              "0.6511713705958311"
            ]
          },
          "metadata": {},
          "execution_count": 15
        }
      ]
    },
    {
      "cell_type": "code",
      "source": [
        "from sklearn.metrics import f1_score\n",
        "f1_score(y_train_5, y_train_pred)"
      ],
      "metadata": {
        "colab": {
          "base_uri": "https://localhost:8080/"
        },
        "id": "ThRtUuGDbslA",
        "outputId": "c127c09f-0a8a-4565-c0ad-68b73691ff68"
      },
      "execution_count": null,
      "outputs": [
        {
          "output_type": "execute_result",
          "data": {
            "text/plain": [
              "0.7325171197343846"
            ]
          },
          "metadata": {},
          "execution_count": 16
        }
      ]
    },
    {
      "cell_type": "markdown",
      "source": [
        "### 3.3.4 정밀도/재현율 트레이드오프\n",
        "SGDClassifier 분류기는 결정 함수를 사용하여 각 샘플의 점수를 계산한다. 이 점수가 임계값보다 크면 샘플을 양성 클래스에 할당하고, 임계값보다 작으면 음성 클래스에 할당한다.\n",
        "\n",
        "사이킷런에서 임계값을 직접 지정할 수는 없지만 **예측에 사용한 점수**를 확인할 수 있다. 분류기의 `predict()` 메서드 대신에 `decision_function()` 메서드를 호출하면 각 샘플의 점수를 얻을 수 있다.\n",
        "\n",
        "SGDClassifier의 임계값이 0이므로 threshold를 0으로 하면 `predict()` 메서드와 같은 결과를 반환한다.\n",
        "\n",
        "반면 임계값을 높이면 분류기가 감지하지 못하게 된다. 이는 재현율이 줄어든다는 것을 보여준다.\n"
      ],
      "metadata": {
        "id": "2RhIZjU4cOA6"
      }
    },
    {
      "cell_type": "code",
      "source": [
        "y_scores = sgd_clf.decision_function([some_digit])\n",
        "y_scores"
      ],
      "metadata": {
        "colab": {
          "base_uri": "https://localhost:8080/"
        },
        "id": "_17ZMcRR6yZh",
        "outputId": "bb701aa2-7779-46dc-a661-a8aa91edc1bd"
      },
      "execution_count": null,
      "outputs": [
        {
          "output_type": "execute_result",
          "data": {
            "text/plain": [
              "array([2164.22030239])"
            ]
          },
          "metadata": {},
          "execution_count": 17
        }
      ]
    },
    {
      "cell_type": "code",
      "source": [
        "threshold = 0\n",
        "y_some_digit_pred = (y_scores > threshold)\n",
        "y_some_digit_pred"
      ],
      "metadata": {
        "colab": {
          "base_uri": "https://localhost:8080/"
        },
        "id": "B1WFlUlP639c",
        "outputId": "1def42e6-95db-4a91-e530-4ed2a5371d61"
      },
      "execution_count": null,
      "outputs": [
        {
          "output_type": "execute_result",
          "data": {
            "text/plain": [
              "array([ True])"
            ]
          },
          "metadata": {},
          "execution_count": 22
        }
      ]
    },
    {
      "cell_type": "code",
      "source": [
        "threshold = 8000\n",
        "y_some_digit_pred = (y_scores > threshold)\n",
        "y_some_digit_pred"
      ],
      "metadata": {
        "colab": {
          "base_uri": "https://localhost:8080/"
        },
        "id": "jPXZggP17HGt",
        "outputId": "25a8de5e-6e46-4c94-970d-2c6f3b87bcf9"
      },
      "execution_count": null,
      "outputs": [
        {
          "output_type": "execute_result",
          "data": {
            "text/plain": [
              "array([False])"
            ]
          },
          "metadata": {},
          "execution_count": 23
        }
      ]
    },
    {
      "cell_type": "markdown",
      "source": [
        "**적절한 임계값**을 정하기 위해서는 먼저 `cross_val_predict()` 함수를 사용하여 **훈련 세트에 있는 모든 샘플의 점수**를 구해야 한다. 하지만 이때 예측 결과가 아닌 **결정 점수를 반환**하도록 지정해야 한다.\n"
      ],
      "metadata": {
        "id": "ZmAPpPbi-Wbl"
      }
    },
    {
      "cell_type": "code",
      "source": [
        "y_scores = cross_val_predict(sgd_clf, X_train, y_train_5, cv=3, method=\"decision_function\")"
      ],
      "metadata": {
        "id": "rXIt-5Dd-km3"
      },
      "execution_count": null,
      "outputs": []
    },
    {
      "cell_type": "markdown",
      "source": [
        "이렇게 구한 점수로 `precision_recall_curve()` 함수를 사용하여 가능한 모든 임계값에 대해 정밀도와 재현율을 계산할 수 있다.\n",
        "\n",
        "맷플롯립을 이용하여 임계값에 대한 함수로 정밀도와 재현율을 그릴 수 있다.\n",
        "\n",
        "이때 정밀도 곡선은 재현율 곡선보다 더 울퉁불퉁한데, 이는 임계값을 올리더라도 정밀도가 가끔 낮아질 때가 있기 때문이다. 반면 재현율은 임계값이 올라감에 따라 줄어들 수밖에 없으므로 부드러운 곡선이 된다."
      ],
      "metadata": {
        "id": "v288dfn0Dvaj"
      }
    },
    {
      "cell_type": "code",
      "source": [
        "from sklearn.metrics import precision_recall_curve\n",
        "precisions, recalls, thresholds = precision_recall_curve(y_train_5, y_scores)"
      ],
      "metadata": {
        "id": "0eUtWzQg-71J"
      },
      "execution_count": null,
      "outputs": []
    },
    {
      "cell_type": "code",
      "source": [
        "def plot_precision_recall_vs_threshold(precisions, recalls, thresholds):\n",
        "    plt.plot(thresholds, precisions[:-1], \"b--\", label=\"precision\")\n",
        "    plt.plot(thresholds, recalls[:-1], \"g-\", label=\"recall\")\n",
        "    plt.legend()\n",
        "    plt.show()\n",
        "\n",
        "plot_precision_recall_vs_threshold(precisions, recalls, thresholds)"
      ],
      "metadata": {
        "colab": {
          "base_uri": "https://localhost:8080/",
          "height": 430
        },
        "id": "4HveMPdS_Q2D",
        "outputId": "f8a782f0-3c09-4eb7-f8b9-d3beb55a5223"
      },
      "execution_count": null,
      "outputs": [
        {
          "output_type": "display_data",
          "data": {
            "text/plain": [
              "<Figure size 640x480 with 1 Axes>"
            ],
            "image/png": "[encoded data removed]"
          },
          "metadata": {}
        }
      ]
    },
    {
      "cell_type": "markdown",
      "source": [
        "좋은 정밀도/재현율 트레이드오프를 선택하는 다른 방법은 재현율에 대한 정밀도 곡선을 그리는 것이다.\n",
        "\n",
        "**정밀도가 급격하게 줄어들기 시작**하는 하강점 직전을 정밀도/재현율 트레이드오프로 선택하는 것이 좋다.\n"
      ],
      "metadata": {
        "id": "aVe3DvT0_2xc"
      }
    },
    {
      "cell_type": "code",
      "source": [
        "plt.plot(recalls, precisions)\n",
        "plt.show()"
      ],
      "metadata": {
        "colab": {
          "base_uri": "https://localhost:8080/",
          "height": 430
        },
        "id": "ErIfMe93ALiD",
        "outputId": "6e52bee1-b5d9-4f99-da78-9bfcbd83a444"
      },
      "execution_count": null,
      "outputs": [
        {
          "output_type": "display_data",
          "data": {
            "text/plain": [
              "<Figure size 640x480 with 1 Axes>"
            ],
            "image/png": "[encoded data removed]"
          },
          "metadata": {}
        }
      ]
    },
    {
      "cell_type": "markdown",
      "source": [
        "### 3.3.5 ROC 곡선\n",
        "**ROC(수신기 조작 특성) 곡선**은 이진 분류에서 널리 사용하는 도구이다.\n",
        "\n",
        "정밀도/재현율 곡선과 매우 비슷하지만, ROC 곡선은 **거짓 양성 비율(FPR)에 대한 진짜 양성 비율(TPR, 재현율)의 곡선**이다.\n",
        "\n",
        "양성으로 잘못 분류된 음성 샘플의 비율이 FPR로, 1에서 음성으로 정확하게 분류한 음성 샘플의 비율인 TNR을 뺀 값이다. TNR을 특이도라고도 하므로, ROC 곡선은 **재현율(민감도)에 대한 1-특이도의 그래프**이다.\n",
        "\n",
        "ROC 곡선을 그리려면 `roc_curve()` 함수를 사용하여 여러 임계값에서 TPR과 FPR을 계산해야 한다.\n",
        "\n"
      ],
      "metadata": {
        "id": "wLPWs3thBKIP"
      }
    },
    {
      "cell_type": "code",
      "source": [
        "from sklearn.metrics import roc_curve\n",
        "fpr, tpr, thresholds = roc_curve(y_train_5, y_scores)"
      ],
      "metadata": {
        "id": "u5bF9eD8CQ1y"
      },
      "execution_count": null,
      "outputs": []
    },
    {
      "cell_type": "markdown",
      "source": [
        "맷플롯립을 이용하여 FPR에 대한 TPR 곡선을 나타낼 수 있다.\n",
        "\n",
        "이때에도 트레이드오프가 존재하는데, 재현율(TPR)이 높을수록 분류기가 만드는 거짓 양성 비율(FPR)이 늘어난다."
      ],
      "metadata": {
        "id": "Ca59kstzD0vz"
      }
    },
    {
      "cell_type": "code",
      "source": [
        "def plot_roc_curve(fpr, tpr, label=None):\n",
        "    plt.plot(fpr, tpr, linewidth=2, label=label)\n",
        "    plt.plot([0,1], [0,1], \"k--\")\n",
        "\n",
        "plot_roc_curve(fpr, tpr)"
      ],
      "metadata": {
        "colab": {
          "base_uri": "https://localhost:8080/",
          "height": 430
        },
        "id": "auM6GHAvCjoD",
        "outputId": "d0baa456-8532-42b8-a96c-581cb387f5fe"
      },
      "execution_count": null,
      "outputs": [
        {
          "output_type": "display_data",
          "data": {
            "text/plain": [
              "<Figure size 640x480 with 1 Axes>"
            ],
            "image/png": "[encoded data removed]"
          },
          "metadata": {}
        }
      ]
    },
    {
      "cell_type": "markdown",
      "source": [
        "이때 그래프에서 점선은 완전한 랜덤 분류기의 ROC 곡선을 의미한다. 좋은 분류기는 이 **점선에서 최대한 멀리** 떨어져 있어야 한다.\n",
        "\n",
        "**곡선 아래의 면적(AUC)**을 측정하면 분류기들을 비교할 수 있다. 완벽한 분류기는 ROC의 AUC가 1이고, 완전한 랜덤 분류기는 0.5이다.\n",
        "\n",
        "사이킷런은 ROC의 AUC를 계산하는 함수를 제공한다."
      ],
      "metadata": {
        "id": "RRG5VWrFDGRa"
      }
    },
    {
      "cell_type": "code",
      "source": [
        "from sklearn.metrics import roc_auc_score\n",
        "roc_auc_score(y_train_5, y_scores)"
      ],
      "metadata": {
        "colab": {
          "base_uri": "https://localhost:8080/"
        },
        "id": "C_rdXaHADbDA",
        "outputId": "d21015b0-d2bb-4c99-8116-1fee7d1989de"
      },
      "execution_count": null,
      "outputs": [
        {
          "output_type": "execute_result",
          "data": {
            "text/plain": [
              "0.9604938554008616"
            ]
          },
          "metadata": {},
          "execution_count": 23
        }
      ]
    },
    {
      "cell_type": "markdown",
      "source": [
        "RandomForestClassifier를 훈련시켜서 SGDClassifier의 ROC 곡선과 ROC AUC 점수를 비교한다.\n",
        "\n",
        "마찬가지로 먼저 훈련 세트의 샘플에 대한 점수를 얻어야 하지만, 작동 방식의 차이로 RandomForestClassifier에는 `decision_function()` 메서드가 없다.\n",
        "\n",
        "대신에 `predict_proba()` 메서드를 가지고 있다. 이는 샘플이 행, 클래스가 열이고 **샘플이 주어진 클래스에 속할 확률**을 담은 배열을 반환한다.\n",
        "\n",
        "사이킷런 분류기는 일반적으로 이 두가지 메서드 `decision_function()`와 `predict_proba()` 중 하나 또는 둘 모두를 가지고 있다."
      ],
      "metadata": {
        "id": "ZEvMc9yeD2ss"
      }
    },
    {
      "cell_type": "code",
      "source": [
        "from sklearn.ensemble import RandomForestClassifier\n",
        "\n",
        "forest_clf = RandomForestClassifier(random_state=42)\n",
        "y_probas_forest = cross_val_predict(forest_clf, X_train, y_train_5, cv=3, method=\"predict_proba\")"
      ],
      "metadata": {
        "id": "mjJh3U-tFDEr"
      },
      "execution_count": null,
      "outputs": []
    },
    {
      "cell_type": "markdown",
      "source": [
        "`roc_curve()` 함수는 레이블과 점수를 기대한다. 하지만 점수 대신 클래스 확률을 전달할 수 있다.\n",
        "\n",
        "여기서는 양성 클래스 확률을 점수로 사용하여 FPR과 TPR을 구하고, 이를 이용하여 ROC 곡선을 그린다. 비교를 위해 이전의 ROC 곡선도 함께 그린다.\n",
        "\n",
        "그림에서 볼 수 있듯이 RandomForestClassifier의 ROC 곡선이 왼쪽 위 모서리에 더 가까우므로 SGDClassifier보다 훨씬 좋아 보인다. 당연히 ROC AUC 점수도 더 높다."
      ],
      "metadata": {
        "id": "n2nd7WhtFZOB"
      }
    },
    {
      "cell_type": "code",
      "source": [
        "y_scores_forest = y_probas_forest[:, 1]\n",
        "fpr_forest, tpr_forest, thresholds_forest = roc_curve(y_train_5, y_scores_forest)"
      ],
      "metadata": {
        "id": "L-hO6iuUFrZd"
      },
      "execution_count": null,
      "outputs": []
    },
    {
      "cell_type": "code",
      "source": [
        "plot_roc_curve(fpr_forest, tpr_forest, \"RandomForest\")\n",
        "plt.plot(fpr, tpr, \"b:\", label=\"SGD\")\n",
        "plt.legend(loc=\"lower right\")\n",
        "plt.show()"
      ],
      "metadata": {
        "colab": {
          "base_uri": "https://localhost:8080/",
          "height": 430
        },
        "id": "rEEkyvcoF_8c",
        "outputId": "d2cfa21d-f647-4efa-dca3-f33096a50e2f"
      },
      "execution_count": null,
      "outputs": [
        {
          "output_type": "display_data",
          "data": {
            "text/plain": [
              "<Figure size 640x480 with 1 Axes>"
            ],
            "image/png": "[encoded data removed]"
          },
          "metadata": {}
        }
      ]
    },
    {
      "cell_type": "markdown",
      "source": [
        "## 3.4 다중 분류\n",
        "이진 분류가 두 개의 클래스를 구별하는 반면 **다중 분류기**는 **둘 이상의 클래스를 분류**할 수 있다.\n",
        "\n",
        "일부 알고리즘은 여러 개의 클래스를 직접 처리할 수 있는 반면, 로지스틱 회귀나 SVM 같은 알고리즘은 이진 분류만 가능하다. 이런 경우에는 이진 분류기를 여러 개 사용하여 다중 클래스를 분류하는 기법도 많다.\n",
        "\n",
        "이런 경우 분류할 때 여러 개의 이진 분류기를 만들어서 **각 분류기의 결정 점수 중에서 가장 높은 것**을 선택할 수 있는데, 이를 **OvR 전략**이라고 한다. 대부분의 이진 분류 알고리즘에서 OvR 전략을 선호한다.\n",
        "\n",
        "또 다른 전략으로는 **N개의 클래스가 있을 때 2개씩 조합**하여 Nx(N-1)/2개의 이진 분류기를 훈련 시키는 것으로, 이를 **OvO 전략**이라고 한다. 이 전략은 각 분류기를 훈련시킬 때, 전체 훈련 세트 중에서 구별할 두 클래스에 해당하는 샘플만 필요하다는 장점이 있다."
      ],
      "metadata": {
        "id": "TMc-ckn5HL4S"
      }
    },
    {
      "cell_type": "markdown",
      "source": [
        "다중 클래스 분류 작업에 이진 분류 알고리즘을 선택하면 사이킷런이 알고리즘에 따라 자동으로 OvR 전략 또는 OvO 전략을 실행한다.\n",
        "\n",
        "사이킷런의 SVC 클래스를 사용하여 서포트 벡터 머신 분류기를 테스트한다. MNIST 예제에서는 10개의 클래스가 존재하므로 45개의 분류기를 훈련시켜야 한다.\n",
        "\n",
        "훈련된 모델이 정확한 예측을 수행하는 것을 확인할 수 있다."
      ],
      "metadata": {
        "id": "9qyTn5cDoTfd"
      }
    },
    {
      "cell_type": "code",
      "source": [
        "from sklearn.svm import SVC\n",
        "svm_clf = SVC()\n",
        "svm_clf.fit(X_train, y_train)\n",
        "svm_clf.predict([some_digit])"
      ],
      "metadata": {
        "colab": {
          "base_uri": "https://localhost:8080/"
        },
        "id": "VIfZDIh-pTdS",
        "outputId": "4b76011d-ad07-4ff3-cb47-7c18b60af75f"
      },
      "execution_count": null,
      "outputs": [
        {
          "output_type": "execute_result",
          "data": {
            "text/plain": [
              "array([5], dtype=uint8)"
            ]
          },
          "metadata": {},
          "execution_count": 27
        }
      ]
    },
    {
      "cell_type": "markdown",
      "source": [
        " 내부에서는 사이킷런이 OvO 전략을 사용하여 10개의 이진 분류기를 훈련시키고 각각의 결정 점수를 얻어 가장 높은 클래스를 선택한다.\n",
        "\n",
        "`decision_function()` 메서드를 호출하면 샘플당 10개의 점수를 반환한다. 각 클래스마다 하나씩의 점수이다.\n",
        "\n",
        "6번째 값이 가장 크며, 이 점수가 클래스 5에 해당하는 값이다.\n",
        "\n"
      ],
      "metadata": {
        "id": "emJWVSkFsYs4"
      }
    },
    {
      "cell_type": "code",
      "source": [
        "some_digit_scores = svm_clf.decision_function([some_digit])\n",
        "some_digit_scores"
      ],
      "metadata": {
        "colab": {
          "base_uri": "https://localhost:8080/"
        },
        "id": "ZIcNmyresi0M",
        "outputId": "62068d45-cc60-4ac4-82c3-151d0388d0b0"
      },
      "execution_count": null,
      "outputs": [
        {
          "output_type": "execute_result",
          "data": {
            "text/plain": [
              "array([[ 1.72501977,  2.72809088,  7.2510018 ,  8.3076379 , -0.31087254,\n",
              "         9.3132482 ,  1.70975103,  2.76765202,  6.23049537,  4.84771048]])"
            ]
          },
          "metadata": {},
          "execution_count": 28
        }
      ]
    },
    {
      "cell_type": "markdown",
      "source": [
        "사이킷런에서 OvO나 OvR을 사용하도록 강제하려면 multiclass로부터 OneVsOneClassifier나 OneVsRestClassifier를 사용한다. 간단하게 이진 분류기 인스턴스를 만들어서 객체를 생성할 때 전달하면 된다.\n",
        "\n",
        "다음 코드는 SVC 기반으로 OvR 전략을 사용하는 다중 분류기를 만든다."
      ],
      "metadata": {
        "id": "Q_dDdKMts0St"
      }
    },
    {
      "cell_type": "code",
      "source": [
        "from sklearn.multiclass import OneVsRestClassifier\n",
        "ovr_clf = OneVsRestClassifier(SVC())\n",
        "ovr_clf.fit(X_train, y_train)\n",
        "ovr_clf.predict([some_digit])"
      ],
      "metadata": {
        "id": "pq02jIKHytFw"
      },
      "execution_count": null,
      "outputs": []
    },
    {
      "cell_type": "markdown",
      "source": [
        "SGDClassifier를 훈련시키는 것도 간단하다. SGD 분류기는 직접 샘플을 다중 클래스로 분류할 수 있기 때문에 별도의 OvR이나 OvO를 적용할 필요가 없다.\n",
        "\n",
        "`decision_function()` 메서드를 이용하여 SGD 분류기가 클래스마다 부여한 점수를 확인한다.\n",
        "\n",
        "클래스 5의 점수만 큰 양수이고, 나머지 클래스의 점수는 큰 음수이므로 분류기가 예측 결과에 강한 확신을 보이고 있음을 알 수 있다."
      ],
      "metadata": {
        "id": "NYwhosZ-uEXg"
      }
    },
    {
      "cell_type": "code",
      "source": [
        "sgd_clf.fit(X_train, y_train)\n",
        "sgd_clf.predict([some_digit])"
      ],
      "metadata": {
        "colab": {
          "base_uri": "https://localhost:8080/"
        },
        "id": "hbhhXB9YuVmO",
        "outputId": "a4e35a6f-8ac0-4182-96c1-158dffd31bbd"
      },
      "execution_count": null,
      "outputs": [
        {
          "output_type": "execute_result",
          "data": {
            "text/plain": [
              "array([3], dtype=uint8)"
            ]
          },
          "metadata": {},
          "execution_count": 30
        }
      ]
    },
    {
      "cell_type": "code",
      "source": [
        "sgd_clf.decision_function([some_digit])"
      ],
      "metadata": {
        "colab": {
          "base_uri": "https://localhost:8080/"
        },
        "id": "WowxucRYuac4",
        "outputId": "e8f1ceed-882d-4967-a235-82cf595f0046"
      },
      "execution_count": null,
      "outputs": [
        {
          "output_type": "execute_result",
          "data": {
            "text/plain": [
              "array([[-31893.03095419, -34419.69069632,  -9530.63950739,\n",
              "          1823.73154031, -22320.14822878,  -1385.80478895,\n",
              "        -26188.91070951, -16147.51323997,  -4604.35491274,\n",
              "        -12050.767298  ]])"
            ]
          },
          "metadata": {},
          "execution_count": 31
        }
      ]
    },
    {
      "cell_type": "code",
      "source": [
        "cross_val_score(sgd_clf, X_train, y_train, cv=3, scoring=\"accuracy\")"
      ],
      "metadata": {
        "colab": {
          "base_uri": "https://localhost:8080/"
        },
        "id": "6zh5zu0sz5NT",
        "outputId": "9cfed06f-e31a-4e8e-eb15-2e19cae638ae"
      },
      "execution_count": null,
      "outputs": [
        {
          "output_type": "execute_result",
          "data": {
            "text/plain": [
              "array([0.87365, 0.85835, 0.8689 ])"
            ]
          },
          "metadata": {},
          "execution_count": 37
        }
      ]
    },
    {
      "cell_type": "markdown",
      "source": [
        "분류기를 평가하기 위해서는 일반적으로 교차 검증을 사용한다.\n",
        "\n",
        "`cross_val_score()` 함수를 사용하여 SGDClassifier의 정확도를 평가한다.\n",
        "\n",
        "모든 테스트 폴드에서 나쁘지 않은 정확도를 얻었지만, 간단하게 입력 스케일을 조정하면 정확도를 향상시켜 성능을 더 높일 수도 있다."
      ],
      "metadata": {
        "id": "Rsm3_3iEup17"
      }
    },
    {
      "cell_type": "code",
      "source": [
        "from sklearn.preprocessing import StandardScaler\n",
        "scaler = StandardScaler()\n",
        "X_train_scaled = scaler.fit_transform(X_train.astype(np.float64))\n",
        "cross_val_score(sgd_clf, X_train_scaled, y_train, cv=3, scoring=\"accuracy\")"
      ],
      "metadata": {
        "colab": {
          "base_uri": "https://localhost:8080/"
        },
        "id": "4p6lQufmu7Sw",
        "outputId": "fd8806ce-8519-4199-f494-4fd57755ad52"
      },
      "execution_count": null,
      "outputs": [
        {
          "output_type": "execute_result",
          "data": {
            "text/plain": [
              "array([0.8983, 0.891 , 0.9018])"
            ]
          },
          "metadata": {},
          "execution_count": 32
        }
      ]
    },
    {
      "cell_type": "markdown",
      "source": [
        "## 3.5 에러 분석\n",
        "가능성이 높은 모델을 찾은 경우, 이 모델의 성능을 향상시키는 한가지 방법은 만들어진 에러의 종류를 분석하는 것이다.\n",
        "\n",
        "먼저 오차 행렬을 살펴볼 수 있다. `cross_val_predict()` 함수를 사용해 예측을 만들고, `confusion_matrix()` 함수를 호출한다.\n",
        "\n",
        "많은 숫자가 출력되므로, 맷플롯립의 `matshow()` 함수를 사용하여 이미지로 표현하면 보기에 더 편리하다."
      ],
      "metadata": {
        "id": "G8ivtwG5vO_T"
      }
    },
    {
      "cell_type": "code",
      "source": [
        "y_train_pred = cross_val_predict(sgd_clf, X_train_scaled, y_train, cv=3)\n",
        "conf_mx = confusion_matrix(y_train, y_train_pred)\n",
        "conf_mx"
      ],
      "metadata": {
        "colab": {
          "base_uri": "https://localhost:8080/"
        },
        "id": "jVFwn3gtyKqe",
        "outputId": "95cdb245-6be6-4e7f-a81f-76b6fcf7f828"
      },
      "execution_count": null,
      "outputs": [
        {
          "output_type": "execute_result",
          "data": {
            "text/plain": [
              "array([[5577,    0,   22,    5,    8,   43,   36,    6,  225,    1],\n",
              "       [   0, 6400,   37,   24,    4,   44,    4,    7,  212,   10],\n",
              "       [  27,   27, 5220,   92,   73,   27,   67,   36,  378,   11],\n",
              "       [  22,   17,  117, 5227,    2,  203,   27,   40,  403,   73],\n",
              "       [  12,   14,   41,    9, 5182,   12,   34,   27,  347,  164],\n",
              "       [  27,   15,   30,  168,   53, 4444,   75,   14,  535,   60],\n",
              "       [  30,   15,   42,    3,   44,   97, 5552,    3,  131,    1],\n",
              "       [  21,   10,   51,   30,   49,   12,    3, 5684,  195,  210],\n",
              "       [  17,   63,   48,   86,    3,  126,   25,   10, 5429,   44],\n",
              "       [  25,   18,   30,   64,  118,   36,    1,  179,  371, 5107]])"
            ]
          },
          "metadata": {},
          "execution_count": 33
        }
      ]
    },
    {
      "cell_type": "code",
      "source": [
        "plt.matshow(conf_mx, cmap=plt.cm.gray)\n",
        "plt.show()"
      ],
      "metadata": {
        "colab": {
          "base_uri": "https://localhost:8080/",
          "height": 437
        },
        "id": "O_lIpXv8yepH",
        "outputId": "77f9c66b-eb4f-4659-c630-5e6512b0cb48"
      },
      "execution_count": null,
      "outputs": [
        {
          "output_type": "display_data",
          "data": {
            "text/plain": [
              "<Figure size 480x480 with 1 Axes>"
            ],
            "image/png": "[encoded data removed]"
          },
          "metadata": {}
        }
      ]
    },
    {
      "cell_type": "markdown",
      "source": [
        "맷플롯립으로 오차 행렬을 그리면 배열에서 **가장 큰 값은 흰색**으로, **가장 작은 값은 검은색**으로 정규화되어 그려진다. 이 오차 행렬은 대부분의 흰색이 주대각선에 있으므로 이미지가 올바르게 분류되었다고 볼 수 있다.\n",
        "\n",
        "클래스 5는 다른 대각선보다 조금 더 어두워보이는데, 이는 데이터셋에 숫자 5의 이미지가 적거나 분류기가 숫자 5를 다른 숫자만큼 잘 분류하지 못한다는 뜻이다.\n",
        "\n",
        "그래프의 에러 부분에 초점을 맞추기 위해서 먼저 **오차 행렬의 각 값을 대응되는 클래스의 이미지 개수로 나누어 에러 비율을 비교**한다. 에러의 절대 개수로 비교하면 이미지가 많은 클래스가 상대적으로 더 나쁘게 보이므로 에러 비율을 이용한다.\n"
      ],
      "metadata": {
        "id": "CtdtA8SjykFT"
      }
    },
    {
      "cell_type": "code",
      "source": [
        "row_sums = conf_mx.sum(axis=1, keepdims=True)\n",
        "norm_conf_mx = conf_mx/row_sums"
      ],
      "metadata": {
        "id": "o4eqIa4_zZHo"
      },
      "execution_count": null,
      "outputs": []
    },
    {
      "cell_type": "markdown",
      "source": [
        "다른 항목은 그대로 유지하고 주대각선만 0으로 채워서 그래프를 다시 그린다.\n",
        "\n",
        "행은 실제 클래스를 나타내고, 열은 예측한 클래스를 나타낸다. 클래스 8의 열이 상당히 밝은 것으로 보아 많은 이미지가 클래스 8로 잘못 예측되었음을 암시한다.\n",
        "\n",
        "반면 클래스 8의 행은 그리 나쁘지 않은 것으로 보아 실제 8은 클래스 8로 적절하게 분류되었다는 것을 의미한다."
      ],
      "metadata": {
        "id": "NZRc7kfr1Jyp"
      }
    },
    {
      "cell_type": "code",
      "source": [
        "np.fill_diagonal(norm_conf_mx, 0)\n",
        "plt.matshow(norm_conf_mx, cmap=plt.cm.gray)\n",
        "plt.show()"
      ],
      "metadata": {
        "colab": {
          "base_uri": "https://localhost:8080/",
          "height": 437
        },
        "id": "wrSXA_KLzntt",
        "outputId": "deec9b23-0f27-45f7-bfe0-43b59dcd6a98"
      },
      "execution_count": null,
      "outputs": [
        {
          "output_type": "display_data",
          "data": {
            "text/plain": [
              "<Figure size 480x480 with 1 Axes>"
            ],
            "image/png": "[encoded data removed]"
          },
          "metadata": {}
        }
      ]
    },
    {
      "cell_type": "markdown",
      "source": [
        "오차 행렬을 분석하면 분류기의 성능 향상 방안에 대한 통찰을 얻을 수 있다. 이 그래프의 경우에는 8로 잘못 분류되는 것을 줄이도록 개선할 필요가 있다.\n",
        "\n",
        "예를 들어 실제 8은 아니지만 8처럼 보이는 숫자의 훈련 데이터를 더 많이 모아서 실제 8과 구분할 수 있도록 분류기를 학습시킬 수 있다.\n",
        "\n",
        "또는 분류기에 도움이 될 만한 특성을 더 찾아보는 것도 좋은 방법이다."
      ],
      "metadata": {
        "id": "yn0dp7_w0FFV"
      }
    },
    {
      "cell_type": "markdown",
      "source": [
        "## 3.6 다중 레이블 분류\n",
        "지금까지는 각 샘플이 하나의 클래스에만 할당되었지만, 분류기가 샘플마다 여러 개의 클래스를 출력해야할 때도 있다.\n",
        "\n",
        "여러 개의 이진 꼬리표를 출력하는 분류 시스템을 **다중 레이블 분류** 시스템이라고 한다.\n",
        "\n",
        "다음의 코드는 각 숫자 이미지에 2개의 타겟 레이블이 담긴 y_multilabel 배열을 만든다. 첫번째는 숫자가 큰 값(7,8,9)인지를 나타내고, 두번째는 홀수인지를 나타낸다.\n",
        "\n",
        "그 다음은 KNeighborsClassifier 인스턴스를 만들고, 다중 타겟 배열을 사용하여 훈련시킨다. 이 모델에 예측을 만들면 레이블이 2개 출력된다.\n",
        "\n",
        "숫자 5는 크지 않고(False), 홀수(True)이다."
      ],
      "metadata": {
        "id": "aRIZvz_516tM"
      }
    },
    {
      "cell_type": "code",
      "source": [
        "y_train_large = (y_train >= 7)\n",
        "y_train_odd = (y_train % 2 == 1)\n",
        "y_multilabel = np.c_[y_train_large, y_train_odd]"
      ],
      "metadata": {
        "id": "b4zGJxBt2J50"
      },
      "execution_count": null,
      "outputs": []
    },
    {
      "cell_type": "code",
      "source": [
        "from sklearn.neighbors import KNeighborsClassifier\n",
        "knn_clf = KNeighborsClassifier()\n",
        "knn_clf.fit(X_train, y_multilabel)"
      ],
      "metadata": {
        "colab": {
          "base_uri": "https://localhost:8080/",
          "height": 74
        },
        "id": "BqmaUh0T3pjo",
        "outputId": "e5369155-95e7-4c4e-ea09-c2bf6c07db0b"
      },
      "execution_count": null,
      "outputs": [
        {
          "output_type": "execute_result",
          "data": {
            "text/plain": [
              "KNeighborsClassifier()"
            ],
            "text/html": [
              "<style>#sk-container-id-1 {color: black;background-color: white;}#sk-container-id-1 pre{padding: 0;}#sk-container-id-1 div.sk-toggleable {background-color: white;}#sk-container-id-1 label.sk-toggleable__label {cursor: pointer;display: block;width: 100%;margin-bottom: 0;padding: 0.3em;box-sizing: border-box;text-align: center;}#sk-container-id-1 label.sk-toggleable__label-arrow:before {content: \"▸\";float: left;margin-right: 0.25em;color: #696969;}#sk-container-id-1 label.sk-toggleable__label-arrow:hover:before {color: black;}#sk-container-id-1 div.sk-estimator:hover label.sk-toggleable__label-arrow:before {color: black;}#sk-container-id-1 div.sk-toggleable__content {max-height: 0;max-width: 0;overflow: hidden;text-align: left;background-color: #f0f8ff;}#sk-container-id-1 div.sk-toggleable__content pre {margin: 0.2em;color: black;border-radius: 0.25em;background-color: #f0f8ff;}#sk-container-id-1 input.sk-toggleable__control:checked~div.sk-toggleable__content {max-height: 200px;max-width: 100%;overflow: auto;}#sk-container-id-1 input.sk-toggleable__control:checked~label.sk-toggleable__label-arrow:before {content: \"▾\";}#sk-container-id-1 div.sk-estimator input.sk-toggleable__control:checked~label.sk-toggleable__label {background-color: #d4ebff;}#sk-container-id-1 div.sk-label input.sk-toggleable__control:checked~label.sk-toggleable__label {background-color: #d4ebff;}#sk-container-id-1 input.sk-hidden--visually {border: 0;clip: rect(1px 1px 1px 1px);clip: rect(1px, 1px, 1px, 1px);height: 1px;margin: -1px;overflow: hidden;padding: 0;position: absolute;width: 1px;}#sk-container-id-1 div.sk-estimator {font-family: monospace;background-color: #f0f8ff;border: 1px dotted black;border-radius: 0.25em;box-sizing: border-box;margin-bottom: 0.5em;}#sk-container-id-1 div.sk-estimator:hover {background-color: #d4ebff;}#sk-container-id-1 div.sk-parallel-item::after {content: \"\";width: 100%;border-bottom: 1px solid gray;flex-grow: 1;}#sk-container-id-1 div.sk-label:hover label.sk-toggleable__label {background-color: #d4ebff;}#sk-container-id-1 div.sk-serial::before {content: \"\";position: absolute;border-left: 1px solid gray;box-sizing: border-box;top: 0;bottom: 0;left: 50%;z-index: 0;}#sk-container-id-1 div.sk-serial {display: flex;flex-direction: column;align-items: center;background-color: white;padding-right: 0.2em;padding-left: 0.2em;position: relative;}#sk-container-id-1 div.sk-item {position: relative;z-index: 1;}#sk-container-id-1 div.sk-parallel {display: flex;align-items: stretch;justify-content: center;background-color: white;position: relative;}#sk-container-id-1 div.sk-item::before, #sk-container-id-1 div.sk-parallel-item::before {content: \"\";position: absolute;border-left: 1px solid gray;box-sizing: border-box;top: 0;bottom: 0;left: 50%;z-index: -1;}#sk-container-id-1 div.sk-parallel-item {display: flex;flex-direction: column;z-index: 1;position: relative;background-color: white;}#sk-container-id-1 div.sk-parallel-item:first-child::after {align-self: flex-end;width: 50%;}#sk-container-id-1 div.sk-parallel-item:last-child::after {align-self: flex-start;width: 50%;}#sk-container-id-1 div.sk-parallel-item:only-child::after {width: 0;}#sk-container-id-1 div.sk-dashed-wrapped {border: 1px dashed gray;margin: 0 0.4em 0.5em 0.4em;box-sizing: border-box;padding-bottom: 0.4em;background-color: white;}#sk-container-id-1 div.sk-label label {font-family: monospace;font-weight: bold;display: inline-block;line-height: 1.2em;}#sk-container-id-1 div.sk-label-container {text-align: center;}#sk-container-id-1 div.sk-container {/* jupyter's `normalize.less` sets `[hidden] { display: none; }` but bootstrap.min.css set `[hidden] { display: none !important; }` so we also need the `!important` here to be able to override the default hidden behavior on the sphinx rendered scikit-learn.org. See: https://github.com/scikit-learn/scikit-learn/issues/21755 */display: inline-block !important;position: relative;}#sk-container-id-1 div.sk-text-repr-fallback {display: none;}</style><div id=\"sk-container-id-1\" class=\"sk-top-container\"><div class=\"sk-text-repr-fallback\"><pre>KNeighborsClassifier()</pre><b>In a Jupyter environment, please rerun this cell to show the HTML representation or trust the notebook. <br />On GitHub, the HTML representation is unable to render, please try loading this page with nbviewer.org.</b></div><div class=\"sk-container\" hidden><div class=\"sk-item\"><div class=\"sk-estimator sk-toggleable\"><input class=\"sk-toggleable__control sk-hidden--visually\" id=\"sk-estimator-id-1\" type=\"checkbox\" checked><label for=\"sk-estimator-id-1\" class=\"sk-toggleable__label sk-toggleable__label-arrow\">KNeighborsClassifier</label><div class=\"sk-toggleable__content\"><pre>KNeighborsClassifier()</pre></div></div></div></div></div>"
            ]
          },
          "metadata": {},
          "execution_count": 21
        }
      ]
    },
    {
      "cell_type": "code",
      "source": [
        "knn_clf.predict([some_digit])"
      ],
      "metadata": {
        "colab": {
          "base_uri": "https://localhost:8080/"
        },
        "id": "wDD20Qh426yx",
        "outputId": "e3247b40-e41e-4c6f-ca81-dc10edd1eecb"
      },
      "execution_count": null,
      "outputs": [
        {
          "output_type": "execute_result",
          "data": {
            "text/plain": [
              "array([[False,  True]])"
            ]
          },
          "metadata": {},
          "execution_count": 40
        }
      ]
    },
    {
      "cell_type": "markdown",
      "source": [
        "다중 레이블 분류기를 평가하는 방법은 많으므로, 프로젝트에 따라 적절한 지표를 사용하면 된다.\n",
        "\n",
        "예를 들어 각 레이블의 F1 score를 구하고, 간단하게 평균 점수를 계산할 수 있다.\n",
        "\n",
        "다음 코드는 모든 레이블에 대한 F1 score의 평균을 계산한다.\n",
        "\n",
        "만약에 특정 레이블이 훨씬 많다면 해당 클래스에 대한 분류기의 점수에 더 높은 가중치를 둘 수 있다. 간단한 방법은 레이블에 클래스의 지지도(타겟 레이블에 속한 샘플 수)를 가중치로 주는 것이다. 코드에서 `average=\"weighted\"`로 설정하면 된다.\n"
      ],
      "metadata": {
        "id": "CWUKauyH2iH6"
      }
    },
    {
      "cell_type": "code",
      "source": [
        "y_train_knn_pred = cross_val_predict(knn_clf, X_train, y_multilabel, cv=3)\n",
        "f1_score(y_multilabel, y_train_knn_pred, average=\"macro\")"
      ],
      "metadata": {
        "colab": {
          "base_uri": "https://localhost:8080/"
        },
        "id": "RIO4-kfR3aXO",
        "outputId": "2dd42e78-657a-4dbe-8986-e170b1254b85"
      },
      "execution_count": null,
      "outputs": [
        {
          "output_type": "execute_result",
          "data": {
            "text/plain": [
              "0.976410265560605"
            ]
          },
          "metadata": {},
          "execution_count": 41
        }
      ]
    },
    {
      "cell_type": "markdown",
      "source": [
        "## 3.7 다중 출력 분류\n",
        "**다중 출력 다중 클래스 분류**는 다중 레이블 분류에서 한 레이블이 다중 클래스가 될 수 있도록 일반화한 것이다. 즉 값을 2개 이상 가질 수 있다.\n",
        "\n",
        "이를 위해 이미지에서 잡음을 제거하는 시스템을 만들 것이다.\n",
        "\n",
        "잡음이 많은 숫자 이미지를 입력으로 받고 깨끗한 숫자 이미지를 MNIST 이미지처럼 픽셀의 강도를 담은 배열로 출력한다. 분류기의 출력이 다중 레이블이고 각 레이블은 0부터 255까지의 픽셀 강도로 여러 개의 값을 갖는다. 그러므로 다중 출력 분류 시스템이 된다."
      ],
      "metadata": {
        "id": "deXV4O9Q4H6X"
      }
    },
    {
      "cell_type": "markdown",
      "source": [
        "먼저 MNIST 이미지에서 추출한 훈련 세트와 테스트 세트에 넘파이의 `randint()` 함수를 사용하여 픽셀 강도에 잡음을 추가한다.\n",
        "\n",
        "타겟 이미지는 원본 이미지이다.\n",
        "\n",
        "분류기를 훈련시켜 이 이미지를 깨끗하게 만들어본다."
      ],
      "metadata": {
        "id": "q_cxFfeC42iW"
      }
    },
    {
      "cell_type": "code",
      "source": [
        "def plot_digit(data):\n",
        "    image = data.reshape(28, 28)\n",
        "    plt.imshow(image, cmap = mpl.cm.binary,\n",
        "               interpolation=\"nearest\")\n",
        "    plt.axis(\"off\")"
      ],
      "metadata": {
        "id": "Pgkr-ulGxMNS"
      },
      "execution_count": null,
      "outputs": []
    },
    {
      "cell_type": "code",
      "source": [
        "noise = np.random.randint(0, 100, (len(X_train), 784))\n",
        "X_train_mod = X_train + noise\n",
        "noise = np.random.randint(0, 100, (len(X_test), 784))\n",
        "X_test_mod = X_test + noise\n",
        "y_train_mod = X_train\n",
        "y_test_mod = X_test"
      ],
      "metadata": {
        "id": "fUMWSB3iw7Tl"
      },
      "execution_count": null,
      "outputs": []
    },
    {
      "cell_type": "code",
      "source": [
        "some_index = 0\n",
        "plt.subplot(121)\n",
        "plot_digit(X_test_mod[some_index])\n",
        "plt.subplot(122)\n",
        "plot_digit(y_test_mod[some_index])\n",
        "plt.show()"
      ],
      "metadata": {
        "colab": {
          "base_uri": "https://localhost:8080/",
          "height": 262
        },
        "id": "PUpIHOxzw7V9",
        "outputId": "f9f6a14e-b65a-4319-a285-8bc47c3955a4"
      },
      "execution_count": null,
      "outputs": [
        {
          "output_type": "display_data",
          "data": {
            "text/plain": [
              "<Figure size 640x480 with 2 Axes>"
            ],
            "image/png": "[encoded data removed]"
          },
          "metadata": {}
        }
      ]
    },
    {
      "cell_type": "code",
      "source": [
        "knn_clf.fit(X_train_mod, y_train_mod)\n",
        "clean_digit = knn_clf.predict([X_test_mod[some_index]])\n",
        "plot_digit(clean_digit)"
      ],
      "metadata": {
        "colab": {
          "base_uri": "https://localhost:8080/",
          "height": 406
        },
        "id": "HAbU4HR9w9xR",
        "outputId": "4b661ba1-197f-4d01-90b1-cc089d5f0e44"
      },
      "execution_count": null,
      "outputs": [
        {
          "output_type": "display_data",
          "data": {
            "text/plain": [
              "<Figure size 640x480 with 1 Axes>"
            ],
            "image/png": "[encoded data removed]"
          },
          "metadata": {}
        }
      ]
    }
  ]
}